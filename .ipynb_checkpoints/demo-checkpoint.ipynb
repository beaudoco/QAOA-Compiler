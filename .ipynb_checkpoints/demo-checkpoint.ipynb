{
 "cells": [
  {
   "cell_type": "markdown",
   "id": "d848a3e4-ec2b-4100-9cb2-5337bf6cc689",
   "metadata": {},
   "source": [
    "### Inputs to the QAOA Compiler\n",
    "The compiler takes three json files as the inputs. They holds the following information:\n",
    "* ZZ-interactions and corresponding coefficients in the problem Hamiltonian (https://github.com/mahabubul-alam/QAOA-Compiler/blob/main/examples/QAOA_circ.json)\n",
    "* Target hardware supported gates and corresponding reliabilities (https://github.com/mahabubul-alam/QAOA-Compiler/blob/main/examples/QC.json)\n",
    "* Confugurations for compilation (e.g., target p-value, routing method, random seed, etc.) (https://github.com/mahabubul-alam/QAOA-Compiler/blob/main/examples/Config.json)"
   ]
  },
  {
   "attachments": {
    "b74a6ba7-4cbc-4a05-8a2d-27e7a0789eac.png": {
     "image/png": "[encoded data removed]"
    }
   },
   "cell_type": "markdown",
   "id": "46c9c1ea-f347-4659-900e-956c0f830688",
   "metadata": {},
   "source": [
    "![image.png](attachment:b74a6ba7-4cbc-4a05-8a2d-27e7a0789eac.png)\n",
    "\n",
    "The input ZZ-interactions json file content for the above graph MaxCut problem is shown below:\n",
    "\n",
    "```\n",
    "{\n",
    "    \"(0, 2)\": \"-0.5\", # ZZ-interaction between the qubit pair (0,3) with a coefficient of -0.5 \n",
    "    \"(1, 2)\": \"-0.5\"\n",
    "}\n",
    "```"
   ]
  },
  {
   "cell_type": "code",
   "execution_count": null,
   "id": "4c6a7fb4-d5b8-4c62-8ce9-9659c0af2781",
   "metadata": {},
   "outputs": [],
   "source": []
  }
 ],
 "metadata": {
  "kernelspec": {
   "display_name": "Python 3",
   "language": "python",
   "name": "python3"
  },
  "language_info": {
   "codemirror_mode": {
    "name": "ipython",
    "version": 3
   },
   "file_extension": ".py",
   "mimetype": "text/x-python",
   "name": "python",
   "nbconvert_exporter": "python",
   "pygments_lexer": "ipython3",
   "version": "3.6.13"
  }
 },
 "nbformat": 4,
 "nbformat_minor": 5
}
